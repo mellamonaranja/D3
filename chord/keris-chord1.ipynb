{
 "metadata": {
  "language_info": {
   "codemirror_mode": {
    "name": "ipython",
    "version": 3
   },
   "file_extension": ".py",
   "mimetype": "text/x-python",
   "name": "python",
   "nbconvert_exporter": "python",
   "pygments_lexer": "ipython3",
   "version": "3.8.2-final"
  },
  "orig_nbformat": 2,
  "kernelspec": {
   "name": "python3",
   "display_name": "Python 3",
   "language": "python"
  }
 },
 "nbformat": 4,
 "nbformat_minor": 2,
 "cells": [
  {
   "cell_type": "code",
   "execution_count": 3,
   "metadata": {},
   "outputs": [],
   "source": [
    "import pandas as pd"
   ]
  },
  {
   "cell_type": "code",
   "execution_count": 4,
   "metadata": {},
   "outputs": [],
   "source": [
    "data={'KR' : [1100,1080,1040,1450,1002,8536,1060],\n",
    "'CN' : [1007,8870,1406,1450,1207,8536,1060],\n",
    "'US' : [2050,2850,2450,14550,2250,8536,2050],\n",
    "'VN' : [5060,8560,4560,1450,2560,8536,5060]\n",
    "}"
   ]
  },
  {
   "cell_type": "code",
   "execution_count": 5,
   "metadata": {},
   "outputs": [
    {
     "output_type": "stream",
     "name": "stdout",
     "text": [
      "            1week    1month   2months   3months\n1week    1.000000  0.619603  0.375351  0.535931\n1month   0.619603  1.000000  0.121413  0.852769\n2months  0.375351  0.121413  1.000000 -0.275207\n3months  0.535931  0.852769 -0.275207  1.000000\n"
     ]
    }
   ],
   "source": [
    "df = pd.DataFrame(data,columns=['KR','CN','US','VN'])\n",
    "\n",
    "corrMatrix = df.corr()\n",
    "print (corrMatrix)"
   ]
  },
  {
   "cell_type": "code",
   "execution_count": null,
   "metadata": {},
   "outputs": [],
   "source": []
  }
 ]
}