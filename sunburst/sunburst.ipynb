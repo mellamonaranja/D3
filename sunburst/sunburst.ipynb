{
 "metadata": {
  "language_info": {
   "codemirror_mode": {
    "name": "ipython",
    "version": 3
   },
   "file_extension": ".py",
   "mimetype": "text/x-python",
   "name": "python",
   "nbconvert_exporter": "python",
   "pygments_lexer": "ipython3",
   "version": "3.8.2-final"
  },
  "orig_nbformat": 2,
  "kernelspec": {
   "name": "python3",
   "display_name": "Python 3",
   "language": "python"
  }
 },
 "nbformat": 4,
 "nbformat_minor": 2,
 "cells": [
  {
   "cell_type": "code",
   "execution_count": 1,
   "metadata": {},
   "outputs": [],
   "source": [
    "import pandas as pd\n",
    "import numpy as np\n",
    "import json"
   ]
  },
  {
   "cell_type": "code",
   "execution_count": 2,
   "metadata": {},
   "outputs": [],
   "source": [
    "json_keris=pd.read_json('./keris_extract.json')"
   ]
  },
  {
   "cell_type": "code",
   "execution_count": 14,
   "metadata": {},
   "outputs": [
    {
     "output_type": "execute_result",
     "data": {
      "text/plain": [
       "DRULE_ATT_TYPE_CODE1  INST_NM  GEAR_CODE\n",
       "Attack                숙명여자대학교  53043000        5\n",
       "                               53043001        5\n",
       "                               53073000     1942\n",
       "                               53073040        1\n",
       "                      홍익대학교    53043000        1\n",
       "                               53073000      748\n",
       "DDos                  숙명여자대학교  53073000        4\n",
       "                      홍익대학교    53073000        1\n",
       "Hack                  숙명여자대학교  53073000        7\n",
       "Mail                  숙명여자대학교  53073000        1\n",
       "Malwr                 숙명여자대학교  53073000        4\n",
       "Web                   숙명여자대학교  53073000        1\n",
       "dtype: int64"
      ]
     },
     "metadata": {},
     "execution_count": 14
    }
   ],
   "source": [
    "keris_1=json_keris.groupby(['DRULE_ATT_TYPE_CODE1','INST_NM','GEAR_CODE']).size()\n",
    "keris_1"
   ]
  },
  {
   "cell_type": "code",
   "execution_count": 15,
   "metadata": {},
   "outputs": [],
   "source": [
    "def addToGroup(data, currentKey, nextKeys, value):\n",
    "    print('data', data)\n",
    "    print('currentKey', currentKey)\n",
    "    print('nextKeys', nextKeys)\n",
    "    print('value', value)\n",
    "\n",
    "    if len(nextKeys) == 0:\n",
    "        # we are in the value children, no need to calculate more\n",
    "        data.append({ \"name\": currentKey, \"value\": value })\n",
    "        print('append', data)\n",
    "    else:\n",
    "        # it has to find existing element with name, or add new one\n",
    "        filterList = list(filter(lambda item: item['name'] == currentKey, data))\n",
    "        print('f', filterList)\n",
    "        if len(filterList) == 0:\n",
    "            data.append({ \"name\": currentKey, \"children\": [] })\n",
    "            currentKeyIndex = len(data) - 1\n",
    "        else:\n",
    "            currentKeyIndex = data.index(filterList[0])\n",
    "\n",
    "        # with index of item with name, add the rest of the item to children\n",
    "        currentKeyValue = data[currentKeyIndex]\n",
    "        print('find index', currentKeyIndex, currentKeyValue)\n",
    "        currentKeyValue[\"children\"] = addToGroup(currentKeyValue[\"children\"], nextKeys[0], nextKeys[1:], value)\n",
    "        data[currentKeyIndex] = currentKeyValue\n",
    "        \n",
    "    return data"
   ]
  },
  {
   "cell_type": "code",
   "execution_count": 16,
   "metadata": {},
   "outputs": [
    {
     "output_type": "stream",
     "name": "stdout",
     "text": [
      "data []\ncurrentKey Attack\nnextKeys ['숙명여자대학교', 53043000]\nvalue 5\nf []\nfind index 0 {'name': 'Attack', 'children': []}\ndata []\ncurrentKey 숙명여자대학교\nnextKeys [53043000]\nvalue 5\nf []\nfind index 0 {'name': '숙명여자대학교', 'children': []}\ndata []\ncurrentKey 53043000\nnextKeys []\nvalue 5\nappend [{'name': 53043000, 'value': 5}]\ndata [{'name': 'Attack', 'children': [{'name': '숙명여자대학교', 'children': [{'name': 53043000, 'value': 5}]}]}]\ncurrentKey Attack\nnextKeys ['숙명여자대학교', 53043001]\nvalue 5\nf [{'name': 'Attack', 'children': [{'name': '숙명여자대학교', 'children': [{'name': 53043000, 'value': 5}]}]}]\nfind index 0 {'name': 'Attack', 'children': [{'name': '숙명여자대학교', 'children': [{'name': 53043000, 'value': 5}]}]}\ndata [{'name': '숙명여자대학교', 'children': [{'name': 53043000, 'value': 5}]}]\ncurrentKey 숙명여자대학교\nnextKeys [53043001]\nvalue 5\nf [{'name': '숙명여자대학교', 'children': [{'name': 53043000, 'value': 5}]}]\nfind index 0 {'name': '숙명여자대학교', 'children': [{'name': 53043000, 'value': 5}]}\ndata [{'name': 53043000, 'value': 5}]\ncurrentKey 53043001\nnextKeys []\nvalue 5\nappend [{'name': 53043000, 'value': 5}, {'name': 53043001, 'value': 5}]\ndata [{'name': 'Attack', 'children': [{'name': '숙명여자대학교', 'children': [{'name': 53043000, 'value': 5}, {'name': 53043001, 'value': 5}]}]}]\ncurrentKey Attack\nnextKeys ['숙명여자대학교', 53073000]\nvalue 1942\nf [{'name': 'Attack', 'children': [{'name': '숙명여자대학교', 'children': [{'name': 53043000, 'value': 5}, {'name': 53043001, 'value': 5}]}]}]\nfind index 0 {'name': 'Attack', 'children': [{'name': '숙명여자대학교', 'children': [{'name': 53043000, 'value': 5}, {'name': 53043001, 'value': 5}]}]}\ndata [{'name': '숙명여자대학교', 'children': [{'name': 53043000, 'value': 5}, {'name': 53043001, 'value': 5}]}]\ncurrentKey 숙명여자대학교\nnextKeys [53073000]\nvalue 1942\nf [{'name': '숙명여자대학교', 'children': [{'name': 53043000, 'value': 5}, {'name': 53043001, 'value': 5}]}]\nfind index 0 {'name': '숙명여자대학교', 'children': [{'name': 53043000, 'value': 5}, {'name': 53043001, 'value': 5}]}\ndata [{'name': 53043000, 'value': 5}, {'name': 53043001, 'value': 5}]\ncurrentKey 53073000\nnextKeys []\nvalue 1942\nappend [{'name': 53043000, 'value': 5}, {'name': 53043001, 'value': 5}, {'name': 53073000, 'value': 1942}]\ndata [{'name': 'Attack', 'children': [{'name': '숙명여자대학교', 'children': [{'name': 53043000, 'value': 5}, {'name': 53043001, 'value': 5}, {'name': 53073000, 'value': 1942}]}]}]\ncurrentKey Attack\nnextKeys ['숙명여자대학교', 53073040]\nvalue 1\nf [{'name': 'Attack', 'children': [{'name': '숙명여자대학교', 'children': [{'name': 53043000, 'value': 5}, {'name': 53043001, 'value': 5}, {'name': 53073000, 'value': 1942}]}]}]\nfind index 0 {'name': 'Attack', 'children': [{'name': '숙명여자대학교', 'children': [{'name': 53043000, 'value': 5}, {'name': 53043001, 'value': 5}, {'name': 53073000, 'value': 1942}]}]}\ndata [{'name': '숙명여자대학교', 'children': [{'name': 53043000, 'value': 5}, {'name': 53043001, 'value': 5}, {'name': 53073000, 'value': 1942}]}]\ncurrentKey 숙명여자대학교\nnextKeys [53073040]\nvalue 1\nf [{'name': '숙명여자대학교', 'children': [{'name': 53043000, 'value': 5}, {'name': 53043001, 'value': 5}, {'name': 53073000, 'value': 1942}]}]\nfind index 0 {'name': '숙명여자대학교', 'children': [{'name': 53043000, 'value': 5}, {'name': 53043001, 'value': 5}, {'name': 53073000, 'value': 1942}]}\ndata [{'name': 53043000, 'value': 5}, {'name': 53043001, 'value': 5}, {'name': 53073000, 'value': 1942}]\ncurrentKey 53073040\nnextKeys []\nvalue 1\nappend [{'name': 53043000, 'value': 5}, {'name': 53043001, 'value': 5}, {'name': 53073000, 'value': 1942}, {'name': 53073040, 'value': 1}]\ndata [{'name': 'Attack', 'children': [{'name': '숙명여자대학교', 'children': [{'name': 53043000, 'value': 5}, {'name': 53043001, 'value': 5}, {'name': 53073000, 'value': 1942}, {'name': 53073040, 'value': 1}]}]}]\ncurrentKey Attack\nnextKeys ['홍익대학교', 53043000]\nvalue 1\nf [{'name': 'Attack', 'children': [{'name': '숙명여자대학교', 'children': [{'name': 53043000, 'value': 5}, {'name': 53043001, 'value': 5}, {'name': 53073000, 'value': 1942}, {'name': 53073040, 'value': 1}]}]}]\nfind index 0 {'name': 'Attack', 'children': [{'name': '숙명여자대학교', 'children': [{'name': 53043000, 'value': 5}, {'name': 53043001, 'value': 5}, {'name': 53073000, 'value': 1942}, {'name': 53073040, 'value': 1}]}]}\ndata [{'name': '숙명여자대학교', 'children': [{'name': 53043000, 'value': 5}, {'name': 53043001, 'value': 5}, {'name': 53073000, 'value': 1942}, {'name': 53073040, 'value': 1}]}]\ncurrentKey 홍익대학교\nnextKeys [53043000]\nvalue 1\nf []\nfind index 1 {'name': '홍익대학교', 'children': []}\ndata []\ncurrentKey 53043000\nnextKeys []\nvalue 1\nappend [{'name': 53043000, 'value': 1}]\ndata [{'name': 'Attack', 'children': [{'name': '숙명여자대학교', 'children': [{'name': 53043000, 'value': 5}, {'name': 53043001, 'value': 5}, {'name': 53073000, 'value': 1942}, {'name': 53073040, 'value': 1}]}, {'name': '홍익대학교', 'children': [{'name': 53043000, 'value': 1}]}]}]\ncurrentKey Attack\nnextKeys ['홍익대학교', 53073000]\nvalue 748\nf [{'name': 'Attack', 'children': [{'name': '숙명여자대학교', 'children': [{'name': 53043000, 'value': 5}, {'name': 53043001, 'value': 5}, {'name': 53073000, 'value': 1942}, {'name': 53073040, 'value': 1}]}, {'name': '홍익대학교', 'children': [{'name': 53043000, 'value': 1}]}]}]\nfind index 0 {'name': 'Attack', 'children': [{'name': '숙명여자대학교', 'children': [{'name': 53043000, 'value': 5}, {'name': 53043001, 'value': 5}, {'name': 53073000, 'value': 1942}, {'name': 53073040, 'value': 1}]}, {'name': '홍익대학교', 'children': [{'name': 53043000, 'value': 1}]}]}\ndata [{'name': '숙명여자대학교', 'children': [{'name': 53043000, 'value': 5}, {'name': 53043001, 'value': 5}, {'name': 53073000, 'value': 1942}, {'name': 53073040, 'value': 1}]}, {'name': '홍익대학교', 'children': [{'name': 53043000, 'value': 1}]}]\ncurrentKey 홍익대학교\nnextKeys [53073000]\nvalue 748\nf [{'name': '홍익대학교', 'children': [{'name': 53043000, 'value': 1}]}]\nfind index 1 {'name': '홍익대학교', 'children': [{'name': 53043000, 'value': 1}]}\ndata [{'name': 53043000, 'value': 1}]\ncurrentKey 53073000\nnextKeys []\nvalue 748\nappend [{'name': 53043000, 'value': 1}, {'name': 53073000, 'value': 748}]\ndata [{'name': 'Attack', 'children': [{'name': '숙명여자대학교', 'children': [{'name': 53043000, 'value': 5}, {'name': 53043001, 'value': 5}, {'name': 53073000, 'value': 1942}, {'name': 53073040, 'value': 1}]}, {'name': '홍익대학교', 'children': [{'name': 53043000, 'value': 1}, {'name': 53073000, 'value': 748}]}]}]\ncurrentKey DDos\nnextKeys ['숙명여자대학교', 53073000]\nvalue 4\nf []\nfind index 1 {'name': 'DDos', 'children': []}\ndata []\ncurrentKey 숙명여자대학교\nnextKeys [53073000]\nvalue 4\nf []\nfind index 0 {'name': '숙명여자대학교', 'children': []}\ndata []\ncurrentKey 53073000\nnextKeys []\nvalue 4\nappend [{'name': 53073000, 'value': 4}]\ndata [{'name': 'Attack', 'children': [{'name': '숙명여자대학교', 'children': [{'name': 53043000, 'value': 5}, {'name': 53043001, 'value': 5}, {'name': 53073000, 'value': 1942}, {'name': 53073040, 'value': 1}]}, {'name': '홍익대학교', 'children': [{'name': 53043000, 'value': 1}, {'name': 53073000, 'value': 748}]}]}, {'name': 'DDos', 'children': [{'name': '숙명여자대학교', 'children': [{'name': 53073000, 'value': 4}]}]}]\ncurrentKey DDos\nnextKeys ['홍익대학교', 53073000]\nvalue 1\nf [{'name': 'DDos', 'children': [{'name': '숙명여자대학교', 'children': [{'name': 53073000, 'value': 4}]}]}]\nfind index 1 {'name': 'DDos', 'children': [{'name': '숙명여자대학교', 'children': [{'name': 53073000, 'value': 4}]}]}\ndata [{'name': '숙명여자대학교', 'children': [{'name': 53073000, 'value': 4}]}]\ncurrentKey 홍익대학교\nnextKeys [53073000]\nvalue 1\nf []\nfind index 1 {'name': '홍익대학교', 'children': []}\ndata []\ncurrentKey 53073000\nnextKeys []\nvalue 1\nappend [{'name': 53073000, 'value': 1}]\ndata [{'name': 'Attack', 'children': [{'name': '숙명여자대학교', 'children': [{'name': 53043000, 'value': 5}, {'name': 53043001, 'value': 5}, {'name': 53073000, 'value': 1942}, {'name': 53073040, 'value': 1}]}, {'name': '홍익대학교', 'children': [{'name': 53043000, 'value': 1}, {'name': 53073000, 'value': 748}]}]}, {'name': 'DDos', 'children': [{'name': '숙명여자대학교', 'children': [{'name': 53073000, 'value': 4}]}, {'name': '홍익대학교', 'children': [{'name': 53073000, 'value': 1}]}]}]\ncurrentKey Hack\nnextKeys ['숙명여자대학교', 53073000]\nvalue 7\nf []\nfind index 2 {'name': 'Hack', 'children': []}\ndata []\ncurrentKey 숙명여자대학교\nnextKeys [53073000]\nvalue 7\nf []\nfind index 0 {'name': '숙명여자대학교', 'children': []}\ndata []\ncurrentKey 53073000\nnextKeys []\nvalue 7\nappend [{'name': 53073000, 'value': 7}]\ndata [{'name': 'Attack', 'children': [{'name': '숙명여자대학교', 'children': [{'name': 53043000, 'value': 5}, {'name': 53043001, 'value': 5}, {'name': 53073000, 'value': 1942}, {'name': 53073040, 'value': 1}]}, {'name': '홍익대학교', 'children': [{'name': 53043000, 'value': 1}, {'name': 53073000, 'value': 748}]}]}, {'name': 'DDos', 'children': [{'name': '숙명여자대학교', 'children': [{'name': 53073000, 'value': 4}]}, {'name': '홍익대학교', 'children': [{'name': 53073000, 'value': 1}]}]}, {'name': 'Hack', 'children': [{'name': '숙명여자대학교', 'children': [{'name': 53073000, 'value': 7}]}]}]\ncurrentKey Mail\nnextKeys ['숙명여자대학교', 53073000]\nvalue 1\nf []\nfind index 3 {'name': 'Mail', 'children': []}\ndata []\ncurrentKey 숙명여자대학교\nnextKeys [53073000]\nvalue 1\nf []\nfind index 0 {'name': '숙명여자대학교', 'children': []}\ndata []\ncurrentKey 53073000\nnextKeys []\nvalue 1\nappend [{'name': 53073000, 'value': 1}]\ndata [{'name': 'Attack', 'children': [{'name': '숙명여자대학교', 'children': [{'name': 53043000, 'value': 5}, {'name': 53043001, 'value': 5}, {'name': 53073000, 'value': 1942}, {'name': 53073040, 'value': 1}]}, {'name': '홍익대학교', 'children': [{'name': 53043000, 'value': 1}, {'name': 53073000, 'value': 748}]}]}, {'name': 'DDos', 'children': [{'name': '숙명여자대학교', 'children': [{'name': 53073000, 'value': 4}]}, {'name': '홍익대학교', 'children': [{'name': 53073000, 'value': 1}]}]}, {'name': 'Hack', 'children': [{'name': '숙명여자대학교', 'children': [{'name': 53073000, 'value': 7}]}]}, {'name': 'Mail', 'children': [{'name': '숙명여자대학교', 'children': [{'name': 53073000, 'value': 1}]}]}]\ncurrentKey Malwr\nnextKeys ['숙명여자대학교', 53073000]\nvalue 4\nf []\nfind index 4 {'name': 'Malwr', 'children': []}\ndata []\ncurrentKey 숙명여자대학교\nnextKeys [53073000]\nvalue 4\nf []\nfind index 0 {'name': '숙명여자대학교', 'children': []}\ndata []\ncurrentKey 53073000\nnextKeys []\nvalue 4\nappend [{'name': 53073000, 'value': 4}]\ndata [{'name': 'Attack', 'children': [{'name': '숙명여자대학교', 'children': [{'name': 53043000, 'value': 5}, {'name': 53043001, 'value': 5}, {'name': 53073000, 'value': 1942}, {'name': 53073040, 'value': 1}]}, {'name': '홍익대학교', 'children': [{'name': 53043000, 'value': 1}, {'name': 53073000, 'value': 748}]}]}, {'name': 'DDos', 'children': [{'name': '숙명여자대학교', 'children': [{'name': 53073000, 'value': 4}]}, {'name': '홍익대학교', 'children': [{'name': 53073000, 'value': 1}]}]}, {'name': 'Hack', 'children': [{'name': '숙명여자대학교', 'children': [{'name': 53073000, 'value': 7}]}]}, {'name': 'Mail', 'children': [{'name': '숙명여자대학교', 'children': [{'name': 53073000, 'value': 1}]}]}, {'name': 'Malwr', 'children': [{'name': '숙명여자대학교', 'children': [{'name': 53073000, 'value': 4}]}]}]\ncurrentKey Web\nnextKeys ['숙명여자대학교', 53073000]\nvalue 1\nf []\nfind index 5 {'name': 'Web', 'children': []}\ndata []\ncurrentKey 숙명여자대학교\nnextKeys [53073000]\nvalue 1\nf []\nfind index 0 {'name': '숙명여자대학교', 'children': []}\ndata []\ncurrentKey 53073000\nnextKeys []\nvalue 1\nappend [{'name': 53073000, 'value': 1}]\n"
     ]
    }
   ],
   "source": [
    "result=[]\n",
    "for keys,value in keris_1.items():\n",
    "    # print('IT', keys, value)\n",
    "    result = addToGroup(result, keys[0], list(keys)[1:], value)"
   ]
  },
  {
   "cell_type": "code",
   "execution_count": 17,
   "metadata": {},
   "outputs": [
    {
     "output_type": "execute_result",
     "data": {
      "text/plain": [
       "[{'name': 'Attack',\n",
       "  'children': [{'name': '숙명여자대학교',\n",
       "    'children': [{'name': 53043000, 'value': 5},\n",
       "     {'name': 53043001, 'value': 5},\n",
       "     {'name': 53073000, 'value': 1942},\n",
       "     {'name': 53073040, 'value': 1}]},\n",
       "   {'name': '홍익대학교',\n",
       "    'children': [{'name': 53043000, 'value': 1},\n",
       "     {'name': 53073000, 'value': 748}]}]},\n",
       " {'name': 'DDos',\n",
       "  'children': [{'name': '숙명여자대학교',\n",
       "    'children': [{'name': 53073000, 'value': 4}]},\n",
       "   {'name': '홍익대학교', 'children': [{'name': 53073000, 'value': 1}]}]},\n",
       " {'name': 'Hack',\n",
       "  'children': [{'name': '숙명여자대학교',\n",
       "    'children': [{'name': 53073000, 'value': 7}]}]},\n",
       " {'name': 'Mail',\n",
       "  'children': [{'name': '숙명여자대학교',\n",
       "    'children': [{'name': 53073000, 'value': 1}]}]},\n",
       " {'name': 'Malwr',\n",
       "  'children': [{'name': '숙명여자대학교',\n",
       "    'children': [{'name': 53073000, 'value': 4}]}]},\n",
       " {'name': 'Web',\n",
       "  'children': [{'name': '숙명여자대학교',\n",
       "    'children': [{'name': 53073000, 'value': 1}]}]}]"
      ]
     },
     "metadata": {},
     "execution_count": 17
    }
   ],
   "source": [
    "result"
   ]
  }
 ]
}