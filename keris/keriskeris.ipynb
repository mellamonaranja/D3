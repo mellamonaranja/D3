{
 "metadata": {
  "language_info": {
   "codemirror_mode": {
    "name": "ipython",
    "version": 3
   },
   "file_extension": ".py",
   "mimetype": "text/x-python",
   "name": "python",
   "nbconvert_exporter": "python",
   "pygments_lexer": "ipython3",
   "version": "3.8.2-final"
  },
  "orig_nbformat": 2,
  "kernelspec": {
   "name": "python3",
   "display_name": "Python 3",
   "language": "python"
  }
 },
 "nbformat": 4,
 "nbformat_minor": 2,
 "cells": [
  {
   "cell_type": "code",
   "execution_count": 1,
   "metadata": {},
   "outputs": [],
   "source": [
    "import pandas as pd\n",
    "import numpy as np\n",
    "import json"
   ]
  },
  {
   "cell_type": "code",
   "execution_count": 25,
   "metadata": {},
   "outputs": [
    {
     "output_type": "stream",
     "name": "stdout",
     "text": [
      "  DRULE_ATT_TYPE_CODE1              TW_ID  \\\n0                Malwr  20201210171223884   \n1                  Web  20201210171223884   \n2                 Hack  20201210171223884   \n\n                                            DRULE_NM  GEAR_CODE  GEAR_TYPE  \\\n0  Attack-BruteForce-29-01-tool(ncrack).20050701E...   53073000          0   \n1  Attack-BruteForce-29-01-tool(ncrack).20050701E...   53073000          0   \n2  Attack-BruteForce-29-01-tool(ncrack).20050701E...   53073000          0   \n\n   INST_NM                                            RISK_V2 TW_ATT_CT_CODE  \\\n0  숙명여자대학교  {'ACCD_HIST_VAL_1': 0, 'ACCD_HIST_VAL_2': 0, '...             TW   \n1  숙명여자대학교  {'ACCD_HIST_VAL_1': 0, 'ACCD_HIST_VAL_2': 0, '...             TW   \n2  숙명여자대학교  {'ACCD_HIST_VAL_1': 0, 'ACCD_HIST_VAL_2': 0, '...             TW   \n\n   TW_ATT_PORT  TW_DETECT_CNT  \\\n0        65236              1   \n1        65237              1   \n2        65238              1   \n\n                                          SCEN_INFOS  \n0  [{'POL_CODE': '1DGj7HEB2UDdhYEC1Bo2', 'POL_NM'...  \n1  [{'POL_CODE': '1DGj7HEB2UDdhYEC1Bo2', 'POL_NM'...  \n2  [{'POL_CODE': '1DGj7HEB2UDdhYEC1Bo2', 'POL_NM'...  \n"
     ]
    }
   ],
   "source": [
    "json_keris=pd.read_json('./keris_extract.json')\n",
    "print(json_keris.head(3))"
   ]
  },
  {
   "cell_type": "code",
   "execution_count": 188,
   "metadata": {},
   "outputs": [
    {
     "output_type": "execute_result",
     "data": {
      "text/plain": [
       "DRULE_ATT_TYPE_CODE1   Attack              DDos                       Hack  \\\n",
       "INST_NM               숙명여자대학교    홍익대학교  숙명여자대학교                    숙명여자대학교   \n",
       "GEAR_CODE            53073000 53073000 53073000 53073001 53073004 53073001   \n",
       "TW_ID                    1931      726        5        5        1        6   \n",
       "DRULE_NM                 1931      726        5        5        1        6   \n",
       "GEAR_TYPE                1931      726        5        5        1        6   \n",
       "RISK_V2                  1931      726        5        5        1        6   \n",
       "TW_ATT_CT_CODE           1931      726        5        5        1        6   \n",
       "TW_ATT_PORT              1931      726        5        5        1        6   \n",
       "TW_DETECT_CNT            1931      726        5        5        1        6   \n",
       "SCEN_INFOS               1931      726        5        5        1        6   \n",
       "\n",
       "DRULE_ATT_TYPE_CODE1                                Mail  ...           \\\n",
       "INST_NM                                          숙명여자대학교  ...            \n",
       "GEAR_CODE            53073002 53073003 53073004 53073000  ... 53073003   \n",
       "TW_ID                       6        6        3        1  ...        2   \n",
       "DRULE_NM                    6        6        3        1  ...        2   \n",
       "GEAR_TYPE                   6        6        3        1  ...        2   \n",
       "RISK_V2                     6        6        3        1  ...        2   \n",
       "TW_ATT_CT_CODE              6        6        3        1  ...        2   \n",
       "TW_ATT_PORT                 6        6        3        1  ...        2   \n",
       "TW_DETECT_CNT               6        6        3        1  ...        2   \n",
       "SCEN_INFOS                  6        6        3        1  ...        2   \n",
       "\n",
       "DRULE_ATT_TYPE_CODE1                                                 Malwr  \\\n",
       "INST_NM                          홍익대학교                             숙명여자대학교   \n",
       "GEAR_CODE            53073004 53073000 53073002 53073003 53073004 53073001   \n",
       "TW_ID                       1        3        2        3        3        1   \n",
       "DRULE_NM                    1        3        2        3        3        1   \n",
       "GEAR_TYPE                   1        3        2        3        3        1   \n",
       "RISK_V2                     1        3        2        3        3        1   \n",
       "TW_ATT_CT_CODE              1        3        2        3        3        1   \n",
       "TW_ATT_PORT                 1        3        2        3        3        1   \n",
       "TW_DETECT_CNT               1        3        2        3        3        1   \n",
       "SCEN_INFOS                  1        3        2        3        3        1   \n",
       "\n",
       "DRULE_ATT_TYPE_CODE1               Web           \n",
       "INST_NM                 홍익대학교  숙명여자대학교    홍익대학교  \n",
       "GEAR_CODE            53073000 53073002 53073000  \n",
       "TW_ID                       5        1        8  \n",
       "DRULE_NM                    5        1        8  \n",
       "GEAR_TYPE                   5        1        8  \n",
       "RISK_V2                     5        1        8  \n",
       "TW_ATT_CT_CODE              5        1        8  \n",
       "TW_ATT_PORT                 5        1        8  \n",
       "TW_DETECT_CNT               5        1        8  \n",
       "SCEN_INFOS                  5        1        8  \n",
       "\n",
       "[8 rows x 21 columns]"
      ],
      "text/html": "<div>\n<style scoped>\n    .dataframe tbody tr th:only-of-type {\n        vertical-align: middle;\n    }\n\n    .dataframe tbody tr th {\n        vertical-align: top;\n    }\n\n    .dataframe thead tr th {\n        text-align: left;\n    }\n</style>\n<table border=\"1\" class=\"dataframe\">\n  <thead>\n    <tr>\n      <th>DRULE_ATT_TYPE_CODE1</th>\n      <th colspan=\"2\" halign=\"left\">Attack</th>\n      <th colspan=\"3\" halign=\"left\">DDos</th>\n      <th colspan=\"4\" halign=\"left\">Hack</th>\n      <th colspan=\"8\" halign=\"left\">Mail</th>\n      <th colspan=\"2\" halign=\"left\">Malwr</th>\n      <th colspan=\"2\" halign=\"left\">Web</th>\n    </tr>\n    <tr>\n      <th>INST_NM</th>\n      <th>숙명여자대학교</th>\n      <th>홍익대학교</th>\n      <th colspan=\"3\" halign=\"left\">숙명여자대학교</th>\n      <th colspan=\"4\" halign=\"left\">숙명여자대학교</th>\n      <th colspan=\"4\" halign=\"left\">숙명여자대학교</th>\n      <th colspan=\"4\" halign=\"left\">홍익대학교</th>\n      <th>숙명여자대학교</th>\n      <th>홍익대학교</th>\n      <th>숙명여자대학교</th>\n      <th>홍익대학교</th>\n    </tr>\n    <tr>\n      <th>GEAR_CODE</th>\n      <th>53073000</th>\n      <th>53073000</th>\n      <th>53073000</th>\n      <th>53073001</th>\n      <th>53073004</th>\n      <th>53073001</th>\n      <th>53073002</th>\n      <th>53073003</th>\n      <th>53073004</th>\n      <th>53073000</th>\n      <th>...</th>\n      <th>53073003</th>\n      <th>53073004</th>\n      <th>53073000</th>\n      <th>53073002</th>\n      <th>53073003</th>\n      <th>53073004</th>\n      <th>53073001</th>\n      <th>53073000</th>\n      <th>53073002</th>\n      <th>53073000</th>\n    </tr>\n  </thead>\n  <tbody>\n    <tr>\n      <th>TW_ID</th>\n      <td>1931</td>\n      <td>726</td>\n      <td>5</td>\n      <td>5</td>\n      <td>1</td>\n      <td>6</td>\n      <td>6</td>\n      <td>6</td>\n      <td>3</td>\n      <td>1</td>\n      <td>...</td>\n      <td>2</td>\n      <td>1</td>\n      <td>3</td>\n      <td>2</td>\n      <td>3</td>\n      <td>3</td>\n      <td>1</td>\n      <td>5</td>\n      <td>1</td>\n      <td>8</td>\n    </tr>\n    <tr>\n      <th>DRULE_NM</th>\n      <td>1931</td>\n      <td>726</td>\n      <td>5</td>\n      <td>5</td>\n      <td>1</td>\n      <td>6</td>\n      <td>6</td>\n      <td>6</td>\n      <td>3</td>\n      <td>1</td>\n      <td>...</td>\n      <td>2</td>\n      <td>1</td>\n      <td>3</td>\n      <td>2</td>\n      <td>3</td>\n      <td>3</td>\n      <td>1</td>\n      <td>5</td>\n      <td>1</td>\n      <td>8</td>\n    </tr>\n    <tr>\n      <th>GEAR_TYPE</th>\n      <td>1931</td>\n      <td>726</td>\n      <td>5</td>\n      <td>5</td>\n      <td>1</td>\n      <td>6</td>\n      <td>6</td>\n      <td>6</td>\n      <td>3</td>\n      <td>1</td>\n      <td>...</td>\n      <td>2</td>\n      <td>1</td>\n      <td>3</td>\n      <td>2</td>\n      <td>3</td>\n      <td>3</td>\n      <td>1</td>\n      <td>5</td>\n      <td>1</td>\n      <td>8</td>\n    </tr>\n    <tr>\n      <th>RISK_V2</th>\n      <td>1931</td>\n      <td>726</td>\n      <td>5</td>\n      <td>5</td>\n      <td>1</td>\n      <td>6</td>\n      <td>6</td>\n      <td>6</td>\n      <td>3</td>\n      <td>1</td>\n      <td>...</td>\n      <td>2</td>\n      <td>1</td>\n      <td>3</td>\n      <td>2</td>\n      <td>3</td>\n      <td>3</td>\n      <td>1</td>\n      <td>5</td>\n      <td>1</td>\n      <td>8</td>\n    </tr>\n    <tr>\n      <th>TW_ATT_CT_CODE</th>\n      <td>1931</td>\n      <td>726</td>\n      <td>5</td>\n      <td>5</td>\n      <td>1</td>\n      <td>6</td>\n      <td>6</td>\n      <td>6</td>\n      <td>3</td>\n      <td>1</td>\n      <td>...</td>\n      <td>2</td>\n      <td>1</td>\n      <td>3</td>\n      <td>2</td>\n      <td>3</td>\n      <td>3</td>\n      <td>1</td>\n      <td>5</td>\n      <td>1</td>\n      <td>8</td>\n    </tr>\n    <tr>\n      <th>TW_ATT_PORT</th>\n      <td>1931</td>\n      <td>726</td>\n      <td>5</td>\n      <td>5</td>\n      <td>1</td>\n      <td>6</td>\n      <td>6</td>\n      <td>6</td>\n      <td>3</td>\n      <td>1</td>\n      <td>...</td>\n      <td>2</td>\n      <td>1</td>\n      <td>3</td>\n      <td>2</td>\n      <td>3</td>\n      <td>3</td>\n      <td>1</td>\n      <td>5</td>\n      <td>1</td>\n      <td>8</td>\n    </tr>\n    <tr>\n      <th>TW_DETECT_CNT</th>\n      <td>1931</td>\n      <td>726</td>\n      <td>5</td>\n      <td>5</td>\n      <td>1</td>\n      <td>6</td>\n      <td>6</td>\n      <td>6</td>\n      <td>3</td>\n      <td>1</td>\n      <td>...</td>\n      <td>2</td>\n      <td>1</td>\n      <td>3</td>\n      <td>2</td>\n      <td>3</td>\n      <td>3</td>\n      <td>1</td>\n      <td>5</td>\n      <td>1</td>\n      <td>8</td>\n    </tr>\n    <tr>\n      <th>SCEN_INFOS</th>\n      <td>1931</td>\n      <td>726</td>\n      <td>5</td>\n      <td>5</td>\n      <td>1</td>\n      <td>6</td>\n      <td>6</td>\n      <td>6</td>\n      <td>3</td>\n      <td>1</td>\n      <td>...</td>\n      <td>2</td>\n      <td>1</td>\n      <td>3</td>\n      <td>2</td>\n      <td>3</td>\n      <td>3</td>\n      <td>1</td>\n      <td>5</td>\n      <td>1</td>\n      <td>8</td>\n    </tr>\n  </tbody>\n</table>\n<p>8 rows × 21 columns</p>\n</div>"
     },
     "metadata": {},
     "execution_count": 188
    }
   ],
   "source": [
    "keris_count1=json_keris.groupby(['DRULE_ATT_TYPE_CODE1','INST_NM', 'GEAR_CODE']).count().T\n",
    "keris_count1"
   ]
  },
  {
   "cell_type": "code",
   "execution_count": 193,
   "metadata": {},
   "outputs": [
    {
     "output_type": "execute_result",
     "data": {
      "text/plain": [
       "DRULE_ATT_TYPE_CODE1   Attack              DDos                       Hack  \\\n",
       "INST_NM               숙명여자대학교    홍익대학교  숙명여자대학교                    숙명여자대학교   \n",
       "GEAR_CODE            53073000 53073000 53073000 53073001 53073004 53073001   \n",
       "TW_ID                    1931      726        5        5        1        6   \n",
       "\n",
       "DRULE_ATT_TYPE_CODE1                                Mail  ...           \\\n",
       "INST_NM                                          숙명여자대학교  ...            \n",
       "GEAR_CODE            53073002 53073003 53073004 53073000  ... 53073003   \n",
       "TW_ID                       6        6        3        1  ...        2   \n",
       "\n",
       "DRULE_ATT_TYPE_CODE1                                                 Malwr  \\\n",
       "INST_NM                          홍익대학교                             숙명여자대학교   \n",
       "GEAR_CODE            53073004 53073000 53073002 53073003 53073004 53073001   \n",
       "TW_ID                       1        3        2        3        3        1   \n",
       "\n",
       "DRULE_ATT_TYPE_CODE1               Web           \n",
       "INST_NM                 홍익대학교  숙명여자대학교    홍익대학교  \n",
       "GEAR_CODE            53073000 53073002 53073000  \n",
       "TW_ID                       5        1        8  \n",
       "\n",
       "[1 rows x 21 columns]"
      ],
      "text/html": "<div>\n<style scoped>\n    .dataframe tbody tr th:only-of-type {\n        vertical-align: middle;\n    }\n\n    .dataframe tbody tr th {\n        vertical-align: top;\n    }\n\n    .dataframe thead tr th {\n        text-align: left;\n    }\n</style>\n<table border=\"1\" class=\"dataframe\">\n  <thead>\n    <tr>\n      <th>DRULE_ATT_TYPE_CODE1</th>\n      <th colspan=\"2\" halign=\"left\">Attack</th>\n      <th colspan=\"3\" halign=\"left\">DDos</th>\n      <th colspan=\"4\" halign=\"left\">Hack</th>\n      <th colspan=\"8\" halign=\"left\">Mail</th>\n      <th colspan=\"2\" halign=\"left\">Malwr</th>\n      <th colspan=\"2\" halign=\"left\">Web</th>\n    </tr>\n    <tr>\n      <th>INST_NM</th>\n      <th>숙명여자대학교</th>\n      <th>홍익대학교</th>\n      <th colspan=\"3\" halign=\"left\">숙명여자대학교</th>\n      <th colspan=\"4\" halign=\"left\">숙명여자대학교</th>\n      <th colspan=\"4\" halign=\"left\">숙명여자대학교</th>\n      <th colspan=\"4\" halign=\"left\">홍익대학교</th>\n      <th>숙명여자대학교</th>\n      <th>홍익대학교</th>\n      <th>숙명여자대학교</th>\n      <th>홍익대학교</th>\n    </tr>\n    <tr>\n      <th>GEAR_CODE</th>\n      <th>53073000</th>\n      <th>53073000</th>\n      <th>53073000</th>\n      <th>53073001</th>\n      <th>53073004</th>\n      <th>53073001</th>\n      <th>53073002</th>\n      <th>53073003</th>\n      <th>53073004</th>\n      <th>53073000</th>\n      <th>...</th>\n      <th>53073003</th>\n      <th>53073004</th>\n      <th>53073000</th>\n      <th>53073002</th>\n      <th>53073003</th>\n      <th>53073004</th>\n      <th>53073001</th>\n      <th>53073000</th>\n      <th>53073002</th>\n      <th>53073000</th>\n    </tr>\n  </thead>\n  <tbody>\n    <tr>\n      <th>TW_ID</th>\n      <td>1931</td>\n      <td>726</td>\n      <td>5</td>\n      <td>5</td>\n      <td>1</td>\n      <td>6</td>\n      <td>6</td>\n      <td>6</td>\n      <td>3</td>\n      <td>1</td>\n      <td>...</td>\n      <td>2</td>\n      <td>1</td>\n      <td>3</td>\n      <td>2</td>\n      <td>3</td>\n      <td>3</td>\n      <td>1</td>\n      <td>5</td>\n      <td>1</td>\n      <td>8</td>\n    </tr>\n  </tbody>\n</table>\n<p>1 rows × 21 columns</p>\n</div>"
     },
     "metadata": {},
     "execution_count": 193
    }
   ],
   "source": [
    "keris_count2=keris_count1[:1]\n",
    "keris_count2\n"
   ]
  },
  {
   "cell_type": "code",
   "execution_count": 197,
   "metadata": {},
   "outputs": [
    {
     "output_type": "stream",
     "name": "stdout",
     "text": [
      "Pandas(Index=('Attack', '숙명여자대학교', 53073000), _1=1931)\nPandas(Index=('Attack', '홍익대학교', 53073000), _1=726)\nPandas(Index=('DDos', '숙명여자대학교', 53073000), _1=5)\nPandas(Index=('DDos', '숙명여자대학교', 53073001), _1=5)\nPandas(Index=('DDos', '숙명여자대학교', 53073004), _1=1)\nPandas(Index=('Hack', '숙명여자대학교', 53073001), _1=6)\nPandas(Index=('Hack', '숙명여자대학교', 53073002), _1=6)\nPandas(Index=('Hack', '숙명여자대학교', 53073003), _1=6)\nPandas(Index=('Hack', '숙명여자대학교', 53073004), _1=3)\nPandas(Index=('Mail', '숙명여자대학교', 53073000), _1=1)\nPandas(Index=('Mail', '숙명여자대학교', 53073002), _1=1)\nPandas(Index=('Mail', '숙명여자대학교', 53073003), _1=2)\nPandas(Index=('Mail', '숙명여자대학교', 53073004), _1=1)\nPandas(Index=('Mail', '홍익대학교', 53073000), _1=3)\nPandas(Index=('Mail', '홍익대학교', 53073002), _1=2)\nPandas(Index=('Mail', '홍익대학교', 53073003), _1=3)\nPandas(Index=('Mail', '홍익대학교', 53073004), _1=3)\nPandas(Index=('Malwr', '숙명여자대학교', 53073001), _1=1)\nPandas(Index=('Malwr', '홍익대학교', 53073000), _1=5)\nPandas(Index=('Web', '숙명여자대학교', 53073002), _1=1)\nPandas(Index=('Web', '홍익대학교', 53073000), _1=8)\n"
     ]
    }
   ],
   "source": [
    "outer={}\n",
    "result=[]\n",
    "for row in keris_1_series.itertuples():\n",
    "    print(row)\n",
    "#     outer[key]={\n",
    "#         'name':key,\n",
    "#         'children':[]}\n",
    "# print(outer)\n",
    "\n",
    "# for key1,value1 in keris_1_series.iterrows():\n",
    "#     print(key1)\n",
    "    # print(value1)\n",
    "    # outer[key1]['children'].append({\n",
    "    #         'name':key1,\n",
    "    #         'value':value1\n",
    "    #     })\n",
    "\n",
    "#         outer[key2]['children'].append({\n",
    "#             'name':key1,\n",
    "#             'value':value1[key2]\n",
    "#         })\n",
    "#         # print(value1[key2])\n",
    "# print(outer) \n",
    "# for k,v in outer.items():\n",
    "#     print(v)\n",
    "#     result.append(v)\n",
    "# print(result)"
   ]
  },
  {
   "cell_type": "code",
   "execution_count": 10,
   "metadata": {},
   "outputs": [
    {
     "output_type": "execute_result",
     "data": {
      "text/plain": [
       "DRULE_ATT_TYPE_CODE1  TW_ATT_CT_CODE  TW_ATT_PORT\n",
       "Attack                TW              65236          2715\n",
       "DDos                  TW              65239             1\n",
       "Hack                  TW              65238             1\n",
       "Mail                  TW              65230             1\n",
       "Malwr                 TW              65236             1\n",
       "Web                   TW              65237             1\n",
       "dtype: int64"
      ]
     },
     "metadata": {},
     "execution_count": 10
    }
   ],
   "source": [
    "keris_2=json_keris.groupby(['DRULE_ATT_TYPE_CODE1','TW_ATT_CT_CODE','TW_ATT_PORT']).size()\n",
    "keris_2"
   ]
  },
  {
   "cell_type": "code",
   "execution_count": 20,
   "metadata": {},
   "outputs": [
    {
     "output_type": "stream",
     "name": "stdout",
     "text": [
      "('Attack', 'TW', 65236) 2715\nAttack False\n{'name': 'Attack', 'children': []}\nTW {'name': 'Attack', 'children': []}\ncl []\n{'name': 'Attack', 'children': []}\n65236 {'name': 'Attack', 'children': []}\ncl []\n{'name': 'Attack', 'children': []}\n('DDos', 'TW', 65239) 1\nDDos False\n{'name': 'DDos', 'children': []}\nTW {'name': 'DDos', 'children': []}\ncl []\n{'name': 'DDos', 'children': []}\n65239 {'name': 'DDos', 'children': []}\ncl []\n{'name': 'DDos', 'children': []}\n('Hack', 'TW', 65238) 1\nHack False\n{'name': 'Hack', 'children': []}\nTW {'name': 'Hack', 'children': []}\ncl []\n{'name': 'Hack', 'children': []}\n65238 {'name': 'Hack', 'children': []}\ncl []\n{'name': 'Hack', 'children': []}\n('Mail', 'TW', 65230) 1\nMail False\n{'name': 'Mail', 'children': []}\nTW {'name': 'Mail', 'children': []}\ncl []\n{'name': 'Mail', 'children': []}\n65230 {'name': 'Mail', 'children': []}\ncl []\n{'name': 'Mail', 'children': []}\n('Malwr', 'TW', 65236) 1\nMalwr False\n{'name': 'Malwr', 'children': []}\nTW {'name': 'Malwr', 'children': []}\ncl []\n{'name': 'Malwr', 'children': []}\n65236 {'name': 'Malwr', 'children': []}\ncl []\n{'name': 'Malwr', 'children': []}\n('Web', 'TW', 65237) 1\nWeb False\n{'name': 'Web', 'children': []}\nTW {'name': 'Web', 'children': []}\ncl []\n{'name': 'Web', 'children': []}\n65237 {'name': 'Web', 'children': []}\ncl []\n{'name': 'Web', 'children': []}\n"
     ]
    }
   ],
   "source": [
    "for index, value in keris_2.items():\n",
    "    print(index, value)\n",
    "    currentItem = False\n",
    "    for key in index:\n",
    "        print(key, currentItem)\n",
    "        if not currentItem:\n",
    "            currentItem = { \"name\": key, \"children\": []}\n",
    "        else:\n",
    "            currentList = list(filter(lambda item: item['name'] == key, currentItem[\"children\"]))\n",
    "            print('cl', currentList)\n",
    "            if len(currentItem) == 0:\n",
    "                currentItem[\"children\"].append({ \"name\": key, \"children\": []})\n",
    "        print(currentItem)"
   ]
  },
  {
   "cell_type": "code",
   "execution_count": 11,
   "metadata": {},
   "outputs": [
    {
     "output_type": "execute_result",
     "data": {
      "text/plain": [
       "DRULE_ATT_TYPE_CODE1  INST_NM  GEAR_CODE\n",
       "Attack                숙명여자대학교  53073000     1965\n",
       "                      홍익대학교    53073000      750\n",
       "DDos                  숙명여자대학교  53073000        1\n",
       "Hack                  숙명여자대학교  53073000        1\n",
       "Mail                  숙명여자대학교  53073000        1\n",
       "Malwr                 숙명여자대학교  53073000        1\n",
       "Web                   숙명여자대학교  53073000        1\n",
       "dtype: int64"
      ]
     },
     "metadata": {},
     "execution_count": 11
    }
   ],
   "source": [
    "keris_1=json_keris.groupby(['DRULE_ATT_TYPE_CODE1','INST_NM','GEAR_CODE']).size()\n",
    "keris_1"
   ]
  },
  {
   "cell_type": "code",
   "execution_count": 23,
   "metadata": {},
   "outputs": [
    {
     "output_type": "error",
     "ename": "AttributeError",
     "evalue": "'numpy.int64' object has no attribute 'items'",
     "traceback": [
      "\u001b[0;31m---------------------------------------------------------------------------\u001b[0m",
      "\u001b[0;31mAttributeError\u001b[0m                            Traceback (most recent call last)",
      "\u001b[0;32m<ipython-input-23-0619c14f5f71>\u001b[0m in \u001b[0;36m<module>\u001b[0;34m\u001b[0m\n\u001b[1;32m      7\u001b[0m \u001b[0mresult\u001b[0m\u001b[0;34m=\u001b[0m\u001b[0;34m[\u001b[0m\u001b[0;34m]\u001b[0m\u001b[0;34m\u001b[0m\u001b[0;34m\u001b[0m\u001b[0m\n\u001b[1;32m      8\u001b[0m \u001b[0;34m\u001b[0m\u001b[0m\n\u001b[0;32m----> 9\u001b[0;31m \u001b[0;32mfor\u001b[0m \u001b[0mkeys\u001b[0m\u001b[0;34m,\u001b[0m\u001b[0mvalue\u001b[0m \u001b[0;32min\u001b[0m \u001b[0mkeris_1\u001b[0m\u001b[0;34m[\u001b[0m\u001b[0;36m0\u001b[0m\u001b[0;34m]\u001b[0m\u001b[0;34m.\u001b[0m\u001b[0mitems\u001b[0m\u001b[0;34m:\u001b[0m\u001b[0;34m\u001b[0m\u001b[0;34m\u001b[0m\u001b[0m\n\u001b[0m\u001b[1;32m     10\u001b[0m     \u001b[0mresult\u001b[0m\u001b[0;34m=\u001b[0m\u001b[0maddToGroup\u001b[0m\u001b[0;34m(\u001b[0m\u001b[0mresult\u001b[0m\u001b[0;34m,\u001b[0m \u001b[0mkeys\u001b[0m\u001b[0;34m[\u001b[0m\u001b[0;36m0\u001b[0m\u001b[0;34m]\u001b[0m\u001b[0;34m,\u001b[0m \u001b[0mlist\u001b[0m\u001b[0;34m(\u001b[0m\u001b[0mkeys\u001b[0m\u001b[0;34m)\u001b[0m\u001b[0;34m[\u001b[0m\u001b[0;36m1\u001b[0m\u001b[0;34m:\u001b[0m\u001b[0;34m]\u001b[0m\u001b[0;34m,\u001b[0m\u001b[0mvalue\u001b[0m\u001b[0;34m)\u001b[0m\u001b[0;34m\u001b[0m\u001b[0;34m\u001b[0m\u001b[0m\n",
      "\u001b[0;31mAttributeError\u001b[0m: 'numpy.int64' object has no attribute 'items'"
     ]
    }
   ],
   "source": [
    "def addToGroup(items,currentKey,nextKeys,value):\n",
    "    print('items', items)\n",
    "    print('currentKey', currentKey)\n",
    "    print('nextKeys', nextKeys)\n",
    "    print('value', value)\n",
    "\n",
    "result=[]\n",
    "\n",
    "for keys,value in keris_1:\n",
    "    result=addToGroup(result, keys[0], list(keys)[1:],value)"
   ]
  },
  {
   "cell_type": "code",
   "execution_count": 17,
   "metadata": {},
   "outputs": [
    {
     "output_type": "stream",
     "name": "stdout",
     "text": [
      "('Attack', '숙명여자대학교', 53073000) 1965\nAttack False\n--- {'name': 'Attack', 'children': []}\n숙명여자대학교 {'name': 'Attack', 'children': []}\ncl []\n--- {'name': 'Attack', 'children': []}\n53073000 {'name': 'Attack', 'children': []}\ncl []\n--- {'name': 'Attack', 'children': []}\n('Attack', '홍익대학교', 53073000) 750\nAttack False\n--- {'name': 'Attack', 'children': []}\n홍익대학교 {'name': 'Attack', 'children': []}\ncl []\n--- {'name': 'Attack', 'children': []}\n53073000 {'name': 'Attack', 'children': []}\ncl []\n--- {'name': 'Attack', 'children': []}\n('DDos', '숙명여자대학교', 53073000) 1\nDDos False\n--- {'name': 'DDos', 'children': []}\n숙명여자대학교 {'name': 'DDos', 'children': []}\ncl []\n--- {'name': 'DDos', 'children': []}\n53073000 {'name': 'DDos', 'children': []}\ncl []\n--- {'name': 'DDos', 'children': []}\n('Hack', '숙명여자대학교', 53073000) 1\nHack False\n--- {'name': 'Hack', 'children': []}\n숙명여자대학교 {'name': 'Hack', 'children': []}\ncl []\n--- {'name': 'Hack', 'children': []}\n53073000 {'name': 'Hack', 'children': []}\ncl []\n--- {'name': 'Hack', 'children': []}\n('Mail', '숙명여자대학교', 53073000) 1\nMail False\n--- {'name': 'Mail', 'children': []}\n숙명여자대학교 {'name': 'Mail', 'children': []}\ncl []\n--- {'name': 'Mail', 'children': []}\n53073000 {'name': 'Mail', 'children': []}\ncl []\n--- {'name': 'Mail', 'children': []}\n('Malwr', '숙명여자대학교', 53073000) 1\nMalwr False\n--- {'name': 'Malwr', 'children': []}\n숙명여자대학교 {'name': 'Malwr', 'children': []}\ncl []\n--- {'name': 'Malwr', 'children': []}\n53073000 {'name': 'Malwr', 'children': []}\ncl []\n--- {'name': 'Malwr', 'children': []}\n('Web', '숙명여자대학교', 53073000) 1\nWeb False\n--- {'name': 'Web', 'children': []}\n숙명여자대학교 {'name': 'Web', 'children': []}\ncl []\n--- {'name': 'Web', 'children': []}\n53073000 {'name': 'Web', 'children': []}\ncl []\n--- {'name': 'Web', 'children': []}\n"
     ]
    }
   ],
   "source": [
    "temp = []\n",
    "\n",
    "for index, value in keris_1.items():\n",
    "    print(index, value)\n",
    "    currentItem = False\n",
    "    for key in index:\n",
    "        print(key, currentItem)\n",
    "        if not currentItem:\n",
    "            currentItem = { \"name\": key, \"children\": []}\n",
    "        else:\n",
    "            currentList = list(filter(lambda item: item['name'] == key, currentItem[\"children\"]))\n",
    "            print('cl', currentList)\n",
    "            if len(currentItem) == 0:\n",
    "                currentItem[\"children\"].append({ \"name\": key, \"children\": []})\n",
    "        print('---',currentItem)\n",
    "print(temp)"
   ]
  },
  {
   "cell_type": "code",
   "execution_count": 31,
   "metadata": {
    "tags": []
   },
   "outputs": [
    {
     "output_type": "stream",
     "name": "stdout",
     "text": [
      "DRULE_ATT_TYPE_CODE1\nTW_ID\nDRULE_NM\nGEAR_CODE\nGEAR_TYPE\nINST_NM\nRISK_V2\nTW_ATT_CT_CODE\nTW_ATT_PORT\nTW_DETECT_CNT\nSCEN_INFOS\n"
     ]
    }
   ],
   "source": [
    "d=json_keris.to_dict(orient='records')\n",
    "for key in json_keris.keys():\n",
    "    print(key)"
   ]
  },
  {
   "cell_type": "code",
   "execution_count": 89,
   "metadata": {},
   "outputs": [
    {
     "output_type": "execute_result",
     "data": {
      "text/plain": [
       "        Attack  DDos  Hack  Mail  Malwr  Web\n",
       "충북대학교     5651   424   859   103    235  571\n",
       "부경대학교      762   939   743   556     27  120\n",
       "위덕대학교      536   837   112   103    787   89\n",
       "중앙대학교      507   243   461   954    747  798\n",
       "울산대학교      420   585   384   106    988  491"
      ],
      "text/html": "<div>\n<style scoped>\n    .dataframe tbody tr th:only-of-type {\n        vertical-align: middle;\n    }\n\n    .dataframe tbody tr th {\n        vertical-align: top;\n    }\n\n    .dataframe thead th {\n        text-align: right;\n    }\n</style>\n<table border=\"1\" class=\"dataframe\">\n  <thead>\n    <tr style=\"text-align: right;\">\n      <th></th>\n      <th>Attack</th>\n      <th>DDos</th>\n      <th>Hack</th>\n      <th>Mail</th>\n      <th>Malwr</th>\n      <th>Web</th>\n    </tr>\n  </thead>\n  <tbody>\n    <tr>\n      <th>충북대학교</th>\n      <td>5651</td>\n      <td>424</td>\n      <td>859</td>\n      <td>103</td>\n      <td>235</td>\n      <td>571</td>\n    </tr>\n    <tr>\n      <th>부경대학교</th>\n      <td>762</td>\n      <td>939</td>\n      <td>743</td>\n      <td>556</td>\n      <td>27</td>\n      <td>120</td>\n    </tr>\n    <tr>\n      <th>위덕대학교</th>\n      <td>536</td>\n      <td>837</td>\n      <td>112</td>\n      <td>103</td>\n      <td>787</td>\n      <td>89</td>\n    </tr>\n    <tr>\n      <th>중앙대학교</th>\n      <td>507</td>\n      <td>243</td>\n      <td>461</td>\n      <td>954</td>\n      <td>747</td>\n      <td>798</td>\n    </tr>\n    <tr>\n      <th>울산대학교</th>\n      <td>420</td>\n      <td>585</td>\n      <td>384</td>\n      <td>106</td>\n      <td>988</td>\n      <td>491</td>\n    </tr>\n  </tbody>\n</table>\n</div>"
     },
     "metadata": {},
     "execution_count": 89
    }
   ],
   "source": [
    "df=pd.DataFrame({'Attack':[5651,\t762,\t536,\t507,\t420,\t266,\t247,\t160,\t156,\t123,\t114,\t106,\t82,\t73,\t64,\t62,\t51,\t50,\t43,\t41,\t37,\t26,\t24,\t22,\t20,\t19,\t13,\t13,\t13,\t13],\n",
    "'DDos':[424,\t939,\t837,\t243,\t585,\t513,\t874,\t554,\t400,\t843,\t980,\t645,\t814,\t390,\t382,\t761,\t719,\t873,\t880,\t197,\t788,\t902,\t196,\t135,\t557,\t942,\t299,\t303,\t318,\t945], \n",
    "'Hack':[859,\t743,\t112,\t461,\t384,\t754,\t226,\t472,\t443,\t605,\t636,\t229,\t319,\t957,\t606,\t869,\t739,\t492,\t930,\t149,\t703,\t619,\t741,\t444,\t689,\t784,\t33,\t189,\t47,\t13],\n",
    "'Mail':[103,\t556,\t103,\t954,\t106,\t497,\t75,\t671,\t804,\t571,\t569,\t615,\t776,\t189,\t720,\t359,\t299,\t946,\t493,\t464,\t541,\t516,\t345,\t525,\t769,\t205,\t552,\t8,\t190,\t64],\n",
    "'Malwr':[235,\t27,\t787,\t747,\t988,\t18,\t317,\t126,\t417,\t508,\t875,\t670,\t722,\t304,\t68,\t120,\t288,\t126,\t896,\t593,\t547,\t319,\t767,\t730,\t797,\t404,\t935,\t168,\t654,\t838],\n",
    "'Web':[571,\t120,\t89,\t798,\t491,\t131,\t650,\t202,\t929,\t830,\t777,\t398,\t654,\t704,\t429,\t692,\t282,\t443,\t762,\t91,\t100,\t454,\t48,\t473,\t529,\t351,\t964,\t888,\t247,\t985]}, index=[\"충북대학교\",\t\"부경대학교 \",\t\"위덕대학교 \",\t\"중앙대학교 \",\t\"울산대학교 \",\t\"서울특별시교육청\",\t\"단국대학교 \",\t\"동명대학교 \",\t\"충청남도교육청 \",\t\"오산대학교 \",\t\"장안대학교 \",\t\"인천광역시교육청\",\t\"신안산대학교 \",\t\"한신대학교\",\t\"목포대학교\",\t\"남부대학교\",\t\"원광대학교\",\t\"서울여자대학교\",\t\"서울대학교\",\t\"계원예술대학교\",\t\"안산대학교\",\t\"한림대학교\",\t\"서울대학교병원\",\t\"광운대학교\",\t\"송호대학교\",\t\"인덕대학교\",\t\"충남대학교\",\t\"배재대학교\",\t\"군산대학교\",\t\n",
    "\"세한대학교\"])\n",
    "df.head(5)"
   ]
  },
  {
   "cell_type": "code",
   "execution_count": 54,
   "metadata": {},
   "outputs": [
    {
     "output_type": "error",
     "ename": "TypeError",
     "evalue": "keys must be str, int, float, bool or None, not tuple",
     "traceback": [
      "\u001b[0;31m---------------------------------------------------------------------------\u001b[0m",
      "\u001b[0;31mTypeError\u001b[0m                                 Traceback (most recent call last)",
      "\u001b[0;32m<ipython-input-54-fea1366d0311>\u001b[0m in \u001b[0;36m<module>\u001b[0;34m\u001b[0m\n\u001b[1;32m      1\u001b[0m \u001b[0;32mwith\u001b[0m \u001b[0mopen\u001b[0m\u001b[0;34m(\u001b[0m\u001b[0;34m'keris1_json'\u001b[0m\u001b[0;34m,\u001b[0m\u001b[0;34m'w'\u001b[0m\u001b[0;34m,\u001b[0m\u001b[0mencoding\u001b[0m\u001b[0;34m=\u001b[0m\u001b[0;34m'utf-8'\u001b[0m\u001b[0;34m)\u001b[0m \u001b[0;32mas\u001b[0m \u001b[0moutfile\u001b[0m\u001b[0;34m:\u001b[0m\u001b[0;34m\u001b[0m\u001b[0;34m\u001b[0m\u001b[0m\n\u001b[0;32m----> 2\u001b[0;31m     \u001b[0mjson\u001b[0m\u001b[0;34m.\u001b[0m\u001b[0mdump\u001b[0m\u001b[0;34m(\u001b[0m\u001b[0mkeris1_json\u001b[0m\u001b[0;34m,\u001b[0m\u001b[0moutfile\u001b[0m\u001b[0;34m)\u001b[0m\u001b[0;34m\u001b[0m\u001b[0;34m\u001b[0m\u001b[0m\n\u001b[0m",
      "\u001b[0;32m/Library/Frameworks/Python.framework/Versions/3.8/lib/python3.8/json/__init__.py\u001b[0m in \u001b[0;36mdump\u001b[0;34m(obj, fp, skipkeys, ensure_ascii, check_circular, allow_nan, cls, indent, separators, default, sort_keys, **kw)\u001b[0m\n\u001b[1;32m    177\u001b[0m     \u001b[0;31m# could accelerate with writelines in some versions of Python, at\u001b[0m\u001b[0;34m\u001b[0m\u001b[0;34m\u001b[0m\u001b[0;34m\u001b[0m\u001b[0m\n\u001b[1;32m    178\u001b[0m     \u001b[0;31m# a debuggability cost\u001b[0m\u001b[0;34m\u001b[0m\u001b[0;34m\u001b[0m\u001b[0;34m\u001b[0m\u001b[0m\n\u001b[0;32m--> 179\u001b[0;31m     \u001b[0;32mfor\u001b[0m \u001b[0mchunk\u001b[0m \u001b[0;32min\u001b[0m \u001b[0miterable\u001b[0m\u001b[0;34m:\u001b[0m\u001b[0;34m\u001b[0m\u001b[0;34m\u001b[0m\u001b[0m\n\u001b[0m\u001b[1;32m    180\u001b[0m         \u001b[0mfp\u001b[0m\u001b[0;34m.\u001b[0m\u001b[0mwrite\u001b[0m\u001b[0;34m(\u001b[0m\u001b[0mchunk\u001b[0m\u001b[0;34m)\u001b[0m\u001b[0;34m\u001b[0m\u001b[0;34m\u001b[0m\u001b[0m\n\u001b[1;32m    181\u001b[0m \u001b[0;34m\u001b[0m\u001b[0m\n",
      "\u001b[0;32m/Library/Frameworks/Python.framework/Versions/3.8/lib/python3.8/json/encoder.py\u001b[0m in \u001b[0;36m_iterencode\u001b[0;34m(o, _current_indent_level)\u001b[0m\n\u001b[1;32m    429\u001b[0m             \u001b[0;32myield\u001b[0m \u001b[0;32mfrom\u001b[0m \u001b[0m_iterencode_list\u001b[0m\u001b[0;34m(\u001b[0m\u001b[0mo\u001b[0m\u001b[0;34m,\u001b[0m \u001b[0m_current_indent_level\u001b[0m\u001b[0;34m)\u001b[0m\u001b[0;34m\u001b[0m\u001b[0;34m\u001b[0m\u001b[0m\n\u001b[1;32m    430\u001b[0m         \u001b[0;32melif\u001b[0m \u001b[0misinstance\u001b[0m\u001b[0;34m(\u001b[0m\u001b[0mo\u001b[0m\u001b[0;34m,\u001b[0m \u001b[0mdict\u001b[0m\u001b[0;34m)\u001b[0m\u001b[0;34m:\u001b[0m\u001b[0;34m\u001b[0m\u001b[0;34m\u001b[0m\u001b[0m\n\u001b[0;32m--> 431\u001b[0;31m             \u001b[0;32myield\u001b[0m \u001b[0;32mfrom\u001b[0m \u001b[0m_iterencode_dict\u001b[0m\u001b[0;34m(\u001b[0m\u001b[0mo\u001b[0m\u001b[0;34m,\u001b[0m \u001b[0m_current_indent_level\u001b[0m\u001b[0;34m)\u001b[0m\u001b[0;34m\u001b[0m\u001b[0;34m\u001b[0m\u001b[0m\n\u001b[0m\u001b[1;32m    432\u001b[0m         \u001b[0;32melse\u001b[0m\u001b[0;34m:\u001b[0m\u001b[0;34m\u001b[0m\u001b[0;34m\u001b[0m\u001b[0m\n\u001b[1;32m    433\u001b[0m             \u001b[0;32mif\u001b[0m \u001b[0mmarkers\u001b[0m \u001b[0;32mis\u001b[0m \u001b[0;32mnot\u001b[0m \u001b[0;32mNone\u001b[0m\u001b[0;34m:\u001b[0m\u001b[0;34m\u001b[0m\u001b[0;34m\u001b[0m\u001b[0m\n",
      "\u001b[0;32m/Library/Frameworks/Python.framework/Versions/3.8/lib/python3.8/json/encoder.py\u001b[0m in \u001b[0;36m_iterencode_dict\u001b[0;34m(dct, _current_indent_level)\u001b[0m\n\u001b[1;32m    374\u001b[0m                 \u001b[0;32mcontinue\u001b[0m\u001b[0;34m\u001b[0m\u001b[0;34m\u001b[0m\u001b[0m\n\u001b[1;32m    375\u001b[0m             \u001b[0;32melse\u001b[0m\u001b[0;34m:\u001b[0m\u001b[0;34m\u001b[0m\u001b[0;34m\u001b[0m\u001b[0m\n\u001b[0;32m--> 376\u001b[0;31m                 raise TypeError(f'keys must be str, int, float, bool or None, '\n\u001b[0m\u001b[1;32m    377\u001b[0m                                 f'not {key.__class__.__name__}')\n\u001b[1;32m    378\u001b[0m             \u001b[0;32mif\u001b[0m \u001b[0mfirst\u001b[0m\u001b[0;34m:\u001b[0m\u001b[0;34m\u001b[0m\u001b[0;34m\u001b[0m\u001b[0m\n",
      "\u001b[0;31mTypeError\u001b[0m: keys must be str, int, float, bool or None, not tuple"
     ]
    }
   ],
   "source": [
    "with open('keris1_json','w',encoding='utf-8') as outfile:\n",
    "    json.dump(keris1_json,outfile)"
   ]
  },
  {
   "cell_type": "code",
   "execution_count": 103,
   "metadata": {},
   "outputs": [
    {
     "output_type": "stream",
     "name": "stdout",
     "text": [
      "{'Attack': {'name': 'Attack', 'children': []}, 'DDos': {'name': 'DDos', 'children': []}, 'Hack': {'name': 'Hack', 'children': []}, 'Mail': {'name': 'Mail', 'children': []}, 'Malwr': {'name': 'Malwr', 'children': []}, 'Web': {'name': 'Web', 'children': []}}\n\n\n\n[]\nAttack    5651\nDDos       424\nHack       859\nMail       103\nMalwr      235\nWeb        571\nName: 충북대학교, dtype: int64\nAttack    762\nDDos      939\nHack      743\nMail      556\nMalwr      27\nWeb       120\nName: 부경대학교 , dtype: int64\nAttack    536\nDDos      837\nHack      112\nMail      103\nMalwr     787\nWeb        89\nName: 위덕대학교 , dtype: int64\nAttack    507\nDDos      243\nHack      461\nMail      954\nMalwr     747\nWeb       798\nName: 중앙대학교 , dtype: int64\nAttack    420\nDDos      585\nHack      384\nMail      106\nMalwr     988\nWeb       491\nName: 울산대학교 , dtype: int64\nAttack    266\nDDos      513\nHack      754\nMail      497\nMalwr      18\nWeb       131\nName: 서울특별시교육청, dtype: int64\nAttack    247\nDDos      874\nHack      226\nMail       75\nMalwr     317\nWeb       650\nName: 단국대학교 , dtype: int64\nAttack    160\nDDos      554\nHack      472\nMail      671\nMalwr     126\nWeb       202\nName: 동명대학교 , dtype: int64\nAttack    156\nDDos      400\nHack      443\nMail      804\nMalwr     417\nWeb       929\nName: 충청남도교육청 , dtype: int64\nAttack    123\nDDos      843\nHack      605\nMail      571\nMalwr     508\nWeb       830\nName: 오산대학교 , dtype: int64\nAttack    114\nDDos      980\nHack      636\nMail      569\nMalwr     875\nWeb       777\nName: 장안대학교 , dtype: int64\nAttack    106\nDDos      645\nHack      229\nMail      615\nMalwr     670\nWeb       398\nName: 인천광역시교육청, dtype: int64\nAttack     82\nDDos      814\nHack      319\nMail      776\nMalwr     722\nWeb       654\nName: 신안산대학교 , dtype: int64\nAttack     73\nDDos      390\nHack      957\nMail      189\nMalwr     304\nWeb       704\nName: 한신대학교, dtype: int64\nAttack     64\nDDos      382\nHack      606\nMail      720\nMalwr      68\nWeb       429\nName: 목포대학교, dtype: int64\nAttack     62\nDDos      761\nHack      869\nMail      359\nMalwr     120\nWeb       692\nName: 남부대학교, dtype: int64\nAttack     51\nDDos      719\nHack      739\nMail      299\nMalwr     288\nWeb       282\nName: 원광대학교, dtype: int64\nAttack     50\nDDos      873\nHack      492\nMail      946\nMalwr     126\nWeb       443\nName: 서울여자대학교, dtype: int64\nAttack     43\nDDos      880\nHack      930\nMail      493\nMalwr     896\nWeb       762\nName: 서울대학교, dtype: int64\nAttack     41\nDDos      197\nHack      149\nMail      464\nMalwr     593\nWeb        91\nName: 계원예술대학교, dtype: int64\nAttack     37\nDDos      788\nHack      703\nMail      541\nMalwr     547\nWeb       100\nName: 안산대학교, dtype: int64\nAttack     26\nDDos      902\nHack      619\nMail      516\nMalwr     319\nWeb       454\nName: 한림대학교, dtype: int64\nAttack     24\nDDos      196\nHack      741\nMail      345\nMalwr     767\nWeb        48\nName: 서울대학교병원, dtype: int64\nAttack     22\nDDos      135\nHack      444\nMail      525\nMalwr     730\nWeb       473\nName: 광운대학교, dtype: int64\nAttack     20\nDDos      557\nHack      689\nMail      769\nMalwr     797\nWeb       529\nName: 송호대학교, dtype: int64\nAttack     19\nDDos      942\nHack      784\nMail      205\nMalwr     404\nWeb       351\nName: 인덕대학교, dtype: int64\nAttack     13\nDDos      299\nHack       33\nMail      552\nMalwr     935\nWeb       964\nName: 충남대학교, dtype: int64\nAttack     13\nDDos      303\nHack      189\nMail        8\nMalwr     168\nWeb       888\nName: 배재대학교, dtype: int64\nAttack     13\nDDos      318\nHack       47\nMail      190\nMalwr     654\nWeb       247\nName: 군산대학교, dtype: int64\nAttack     13\nDDos      945\nHack       13\nMail       64\nMalwr     838\nWeb       985\nName: 세한대학교, dtype: int64\n"
     ]
    }
   ],
   "source": [
    "\n",
    "result = {}\n",
    "data_result = []\n",
    "\n",
    "for key in df.keys():\n",
    "    result[key] = {\n",
    "        \"name\": key,\n",
    "        \"children\": []\n",
    "    }\n",
    "    # data_result.append({\"name\": key, \"children\": []})\n",
    "\n",
    "print(result)\n",
    "print('\\n\\n')\n",
    "print(data_result)\n",
    "\n",
    "for key, row in df.iterrows():\n",
    "    # print(key)\n",
    "    print(row)\n",
    "#     for column in df.keys():\n",
    "#         # print(\"----\",row,  row[column])\n",
    "#         result[column]['children'].append({\n",
    "#             \"name\": key,\n",
    "#             \"value\": row[column]\n",
    "#         })\n",
    "\n",
    "# for key, value in result.items():\n",
    "#     data_result.append(value)\n",
    "\n",
    "# print(data_result)"
   ]
  },
  {
   "cell_type": "code",
   "execution_count": 88,
   "metadata": {},
   "outputs": [
    {
     "output_type": "execute_result",
     "data": {
      "text/plain": [
       "                                           0\n",
       "DRULE_ATT_TYPE_CODE1 INST_NM GEAR_CODE      \n",
       "Attack               숙명여자대학교 53073000   1931\n",
       "                     홍익대학교   53073000    726\n",
       "DDos                 숙명여자대학교 53073000      5\n",
       "                             53073001      5\n",
       "                             53073004      1"
      ],
      "text/html": "<div>\n<style scoped>\n    .dataframe tbody tr th:only-of-type {\n        vertical-align: middle;\n    }\n\n    .dataframe tbody tr th {\n        vertical-align: top;\n    }\n\n    .dataframe thead th {\n        text-align: right;\n    }\n</style>\n<table border=\"1\" class=\"dataframe\">\n  <thead>\n    <tr style=\"text-align: right;\">\n      <th></th>\n      <th></th>\n      <th></th>\n      <th>0</th>\n    </tr>\n    <tr>\n      <th>DRULE_ATT_TYPE_CODE1</th>\n      <th>INST_NM</th>\n      <th>GEAR_CODE</th>\n      <th></th>\n    </tr>\n  </thead>\n  <tbody>\n    <tr>\n      <th rowspan=\"2\" valign=\"top\">Attack</th>\n      <th>숙명여자대학교</th>\n      <th>53073000</th>\n      <td>1931</td>\n    </tr>\n    <tr>\n      <th>홍익대학교</th>\n      <th>53073000</th>\n      <td>726</td>\n    </tr>\n    <tr>\n      <th rowspan=\"3\" valign=\"top\">DDos</th>\n      <th rowspan=\"3\" valign=\"top\">숙명여자대학교</th>\n      <th>53073000</th>\n      <td>5</td>\n    </tr>\n    <tr>\n      <th>53073001</th>\n      <td>5</td>\n    </tr>\n    <tr>\n      <th>53073004</th>\n      <td>1</td>\n    </tr>\n  </tbody>\n</table>\n</div>"
     },
     "metadata": {},
     "execution_count": 88
    }
   ],
   "source": [
    "# keris_1.head(5)\n",
    "keris_1_series=keris_1.to_frame()\n",
    "keris_1_series.head(5)"
   ]
  },
  {
   "cell_type": "code",
   "execution_count": 147,
   "metadata": {
    "tags": []
   },
   "outputs": [
    {
     "output_type": "stream",
     "name": "stdout",
     "text": [
      "('Attack', '숙명여자대학교', 53073000)\n('Attack', '홍익대학교', 53073000)\n('DDos', '숙명여자대학교', 53073000)\n('DDos', '숙명여자대학교', 53073001)\n('DDos', '숙명여자대학교', 53073004)\n('Hack', '숙명여자대학교', 53073001)\n('Hack', '숙명여자대학교', 53073002)\n('Hack', '숙명여자대학교', 53073003)\n('Hack', '숙명여자대학교', 53073004)\n('Mail', '숙명여자대학교', 53073000)\n('Mail', '숙명여자대학교', 53073002)\n('Mail', '숙명여자대학교', 53073003)\n('Mail', '숙명여자대학교', 53073004)\n('Mail', '홍익대학교', 53073000)\n('Mail', '홍익대학교', 53073002)\n('Mail', '홍익대학교', 53073003)\n('Mail', '홍익대학교', 53073004)\n('Malwr', '숙명여자대학교', 53073001)\n('Malwr', '홍익대학교', 53073000)\n('Web', '숙명여자대학교', 53073002)\n('Web', '홍익대학교', 53073000)\n"
     ]
    }
   ],
   "source": [
    "outer={}\n",
    "result=[]\n",
    "for key,value in keris_1_series.itertuples():\n",
    "    print(key)\n",
    "#     outer[key]={\n",
    "#         'name':key,\n",
    "#         'children':[]}\n",
    "# print(outer)\n",
    "\n",
    "# for key1,value1 in keris_1_series.iterrows():\n",
    "#     print(key1)\n",
    "    # print(value1)\n",
    "    # outer[key1]['children'].append({\n",
    "    #         'name':key1,\n",
    "    #         'value':value1\n",
    "    #     })\n",
    "\n",
    "#         outer[key2]['children'].append({\n",
    "#             'name':key1,\n",
    "#             'value':value1[key2]\n",
    "#         })\n",
    "#         # print(value1[key2])\n",
    "# print(outer) \n",
    "# for k,v in outer.items():\n",
    "#     print(v)\n",
    "#     result.append(v)\n",
    "# print(result)"
   ]
  },
  {
   "cell_type": "code",
   "execution_count": 32,
   "metadata": {},
   "outputs": [
    {
     "output_type": "execute_result",
     "data": {
      "text/plain": [
       "  attack   ddos  mail\n",
       "0  충북대학교  gear1   561\n",
       "1  충북대학교  gear1  5651\n",
       "2  충북대학교  gear1   551"
      ],
      "text/html": "<div>\n<style scoped>\n    .dataframe tbody tr th:only-of-type {\n        vertical-align: middle;\n    }\n\n    .dataframe tbody tr th {\n        vertical-align: top;\n    }\n\n    .dataframe thead th {\n        text-align: right;\n    }\n</style>\n<table border=\"1\" class=\"dataframe\">\n  <thead>\n    <tr style=\"text-align: right;\">\n      <th></th>\n      <th>attack</th>\n      <th>ddos</th>\n      <th>mail</th>\n    </tr>\n  </thead>\n  <tbody>\n    <tr>\n      <th>0</th>\n      <td>충북대학교</td>\n      <td>gear1</td>\n      <td>561</td>\n    </tr>\n    <tr>\n      <th>1</th>\n      <td>충북대학교</td>\n      <td>gear1</td>\n      <td>5651</td>\n    </tr>\n    <tr>\n      <th>2</th>\n      <td>충북대학교</td>\n      <td>gear1</td>\n      <td>551</td>\n    </tr>\n  </tbody>\n</table>\n</div>"
     },
     "metadata": {},
     "execution_count": 32
    }
   ],
   "source": [
    "df=pd.DataFrame([[\"충북대학교\",'gear1',561],[\"충북대학교\",'gear1',5651],[\"충북대학교\",'gear1',551]],columns=[\"attack\",\"ddos\",\"mail\"])\n",
    "df"
   ]
  },
  {
   "cell_type": "code",
   "execution_count": 28,
   "metadata": {},
   "outputs": [
    {
     "output_type": "error",
     "ename": "TypeError",
     "evalue": "set_index() missing 1 required positional argument: 'keys'",
     "traceback": [
      "\u001b[0;31m---------------------------------------------------------------------------\u001b[0m",
      "\u001b[0;31mTypeError\u001b[0m                                 Traceback (most recent call last)",
      "\u001b[0;32m<ipython-input-28-25c8d9f3f9a0>\u001b[0m in \u001b[0;36m<module>\u001b[0;34m\u001b[0m\n\u001b[0;32m----> 1\u001b[0;31m \u001b[0mdf\u001b[0m\u001b[0;34m.\u001b[0m\u001b[0mset_index\u001b[0m\u001b[0;34m(\u001b[0m\u001b[0;34m)\u001b[0m\u001b[0;34m.\u001b[0m\u001b[0msort_index\u001b[0m\u001b[0;34m(\u001b[0m\u001b[0;34m)\u001b[0m\u001b[0;34m\u001b[0m\u001b[0;34m\u001b[0m\u001b[0m\n\u001b[0m",
      "\u001b[0;31mTypeError\u001b[0m: set_index() missing 1 required positional argument: 'keys'"
     ]
    }
   ],
   "source": [
    "df.set_index().sort_index()"
   ]
  },
  {
   "cell_type": "code",
   "execution_count": 33,
   "metadata": {},
   "outputs": [
    {
     "output_type": "execute_result",
     "data": {
      "text/plain": [
       "        Attack  DDos\n",
       "충북대학교     5651   424\n",
       "부경대학교      762   939\n",
       "위덕대학교      536   837"
      ],
      "text/html": "<div>\n<style scoped>\n    .dataframe tbody tr th:only-of-type {\n        vertical-align: middle;\n    }\n\n    .dataframe tbody tr th {\n        vertical-align: top;\n    }\n\n    .dataframe thead th {\n        text-align: right;\n    }\n</style>\n<table border=\"1\" class=\"dataframe\">\n  <thead>\n    <tr style=\"text-align: right;\">\n      <th></th>\n      <th>Attack</th>\n      <th>DDos</th>\n    </tr>\n  </thead>\n  <tbody>\n    <tr>\n      <th>충북대학교</th>\n      <td>5651</td>\n      <td>424</td>\n    </tr>\n    <tr>\n      <th>부경대학교</th>\n      <td>762</td>\n      <td>939</td>\n    </tr>\n    <tr>\n      <th>위덕대학교</th>\n      <td>536</td>\n      <td>837</td>\n    </tr>\n  </tbody>\n</table>\n</div>"
     },
     "metadata": {},
     "execution_count": 33
    }
   ],
   "source": [
    "df=pd.DataFrame({'Attack':[5651,\t762,\t536],\n",
    "'DDos':[424,\t939,\t837], \n",
    "}, index=[\"충북대학교\",\t\"부경대학교 \",\t\"위덕대학교 \"])\n",
    "df"
   ]
  },
  {
   "cell_type": "code",
   "execution_count": 43,
   "metadata": {},
   "outputs": [
    {
     "output_type": "execute_result",
     "data": {
      "text/plain": [
       "Empty DataFrame\n",
       "Columns: [Attack]\n",
       "Index: []"
      ],
      "text/html": "<div>\n<style scoped>\n    .dataframe tbody tr th:only-of-type {\n        vertical-align: middle;\n    }\n\n    .dataframe tbody tr th {\n        vertical-align: top;\n    }\n\n    .dataframe thead th {\n        text-align: right;\n    }\n</style>\n<table border=\"1\" class=\"dataframe\">\n  <thead>\n    <tr style=\"text-align: right;\">\n      <th></th>\n      <th>Attack</th>\n    </tr>\n  </thead>\n  <tbody>\n  </tbody>\n</table>\n</div>"
     },
     "metadata": {},
     "execution_count": 43
    }
   ],
   "source": [
    "df=pd.DataFrame({'Attack':{}, \n",
    "}, index=[\"충북대학교\",\t\"부경대학교 \",\t\"위덕대학교 \"])\n",
    "df"
   ]
  },
  {
   "cell_type": "code",
   "execution_count": null,
   "metadata": {},
   "outputs": [],
   "source": []
  }
 ]
}